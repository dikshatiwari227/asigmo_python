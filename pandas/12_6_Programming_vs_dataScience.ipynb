{
 "cells": [
  {
   "cell_type": "code",
   "execution_count": 47,
   "metadata": {},
   "outputs": [],
   "source": [
    "import pandas as pd\n",
    "import pronouncing # we use this library to get rhymes\n",
    "import random"
   ]
  },
  {
   "cell_type": "code",
   "execution_count": 48,
   "metadata": {},
   "outputs": [],
   "source": [
    "df = pd.read_csv('https://raw.githubusercontent.com/estambolieva/asigmo_python/master/data/poem_line_data.csv')"
   ]
  },
  {
   "cell_type": "code",
   "execution_count": 49,
   "metadata": {},
   "outputs": [
    {
     "data": {
      "text/html": [
       "<div>\n",
       "<style scoped>\n",
       "    .dataframe tbody tr th:only-of-type {\n",
       "        vertical-align: middle;\n",
       "    }\n",
       "\n",
       "    .dataframe tbody tr th {\n",
       "        vertical-align: top;\n",
       "    }\n",
       "\n",
       "    .dataframe thead th {\n",
       "        text-align: right;\n",
       "    }\n",
       "</style>\n",
       "<table border=\"1\" class=\"dataframe\">\n",
       "  <thead>\n",
       "    <tr style=\"text-align: right;\">\n",
       "      <th></th>\n",
       "      <th>Unnamed: 0</th>\n",
       "      <th>Title</th>\n",
       "      <th>Poet</th>\n",
       "      <th>Lines</th>\n",
       "      <th>Last_Word</th>\n",
       "    </tr>\n",
       "  </thead>\n",
       "  <tbody>\n",
       "    <tr>\n",
       "      <th>0</th>\n",
       "      <td>0</td>\n",
       "      <td>Song of Myself (1892 version)</td>\n",
       "      <td>Walt Whitman</td>\n",
       "      <td>1</td>\n",
       "      <td>1</td>\n",
       "    </tr>\n",
       "    <tr>\n",
       "      <th>1</th>\n",
       "      <td>1</td>\n",
       "      <td>Song of Myself (1892 version)</td>\n",
       "      <td>Walt Whitman</td>\n",
       "      <td>I celebrate myself, and sing myself,</td>\n",
       "      <td>myself</td>\n",
       "    </tr>\n",
       "    <tr>\n",
       "      <th>2</th>\n",
       "      <td>2</td>\n",
       "      <td>Song of Myself (1892 version)</td>\n",
       "      <td>Walt Whitman</td>\n",
       "      <td>And what I assume you shall assume,</td>\n",
       "      <td>assume</td>\n",
       "    </tr>\n",
       "    <tr>\n",
       "      <th>3</th>\n",
       "      <td>3</td>\n",
       "      <td>Song of Myself (1892 version)</td>\n",
       "      <td>Walt Whitman</td>\n",
       "      <td>For every atom belonging to me as good belongs...</td>\n",
       "      <td>you</td>\n",
       "    </tr>\n",
       "    <tr>\n",
       "      <th>4</th>\n",
       "      <td>4</td>\n",
       "      <td>Song of Myself (1892 version)</td>\n",
       "      <td>Walt Whitman</td>\n",
       "      <td>I loafe and invite my soul,</td>\n",
       "      <td>soul</td>\n",
       "    </tr>\n",
       "  </tbody>\n",
       "</table>\n",
       "</div>"
      ],
      "text/plain": [
       "   Unnamed: 0                          Title          Poet  \\\n",
       "0           0  Song of Myself (1892 version)  Walt Whitman   \n",
       "1           1  Song of Myself (1892 version)  Walt Whitman   \n",
       "2           2  Song of Myself (1892 version)  Walt Whitman   \n",
       "3           3  Song of Myself (1892 version)  Walt Whitman   \n",
       "4           4  Song of Myself (1892 version)  Walt Whitman   \n",
       "\n",
       "                                               Lines Last_Word  \n",
       "0                                                  1         1  \n",
       "1               I celebrate myself, and sing myself,    myself  \n",
       "2                And what I assume you shall assume,    assume  \n",
       "3  For every atom belonging to me as good belongs...       you  \n",
       "4                        I loafe and invite my soul,      soul  "
      ]
     },
     "execution_count": 49,
     "metadata": {},
     "output_type": "execute_result"
    }
   ],
   "source": [
    "df.head()"
   ]
  },
  {
   "cell_type": "code",
   "execution_count": 50,
   "metadata": {},
   "outputs": [
    {
     "data": {
      "text/plain": [
       "(40427, 5)"
      ]
     },
     "execution_count": 50,
     "metadata": {},
     "output_type": "execute_result"
    }
   ],
   "source": [
    "df.shape"
   ]
  },
  {
   "cell_type": "code",
   "execution_count": 51,
   "metadata": {},
   "outputs": [],
   "source": [
    "df.Lines = df.Lines.astype(str)\n",
    "df.Title = df.Title.astype(str)\n",
    "df.Poet = df.Poet.astype(str)\n",
    "df.Last_Word = df.Last_Word.astype(str)\n",
    "df.Last_Word = df.Last_Word.str.lower()"
   ]
  },
  {
   "cell_type": "code",
   "execution_count": 52,
   "metadata": {},
   "outputs": [
    {
     "data": {
      "text/plain": [
       "['ask',\n",
       " 'bask',\n",
       " 'basque',\n",
       " 'cask',\n",
       " 'flask',\n",
       " 'lask',\n",
       " 'mask',\n",
       " 'pasch',\n",
       " 'pask',\n",
       " 'pasque',\n",
       " 'rask',\n",
       " 'task',\n",
       " 'trask',\n",
       " 'unmask']"
      ]
     },
     "execution_count": 52,
     "metadata": {},
     "output_type": "execute_result"
    }
   ],
   "source": [
    "word = 'unmask'\n",
    "rhy = pronouncing.rhymes(word)\n",
    "rhy.append(word) # <- very very cheap operation for us to execute\n",
    "rhy"
   ]
  },
  {
   "cell_type": "code",
   "execution_count": null,
   "metadata": {},
   "outputs": [],
   "source": []
  },
  {
   "cell_type": "code",
   "execution_count": null,
   "metadata": {},
   "outputs": [],
   "source": []
  },
  {
   "cell_type": "markdown",
   "metadata": {},
   "source": [
    "### Problem - create a new feature which groups the `Last_Word` into rhyming categories"
   ]
  },
  {
   "cell_type": "markdown",
   "metadata": {},
   "source": [
    "#### 1. Experiment"
   ]
  },
  {
   "cell_type": "code",
   "execution_count": 5,
   "metadata": {},
   "outputs": [
    {
     "data": {
      "text/plain": [
       "'soul'"
      ]
     },
     "execution_count": 5,
     "metadata": {},
     "output_type": "execute_result"
    }
   ],
   "source": [
    "last_word = df.loc[4].Last_Word\n",
    "last_word # <- let's find all `Lat_word` which rhyme with `soul`"
   ]
  },
  {
   "cell_type": "code",
   "execution_count": 6,
   "metadata": {},
   "outputs": [
    {
     "name": "stdout",
     "output_type": "stream",
     "text": [
      "1.21 s ± 82.3 ms per loop (mean ± std. dev. of 7 runs, 1 loop each)\n"
     ]
    }
   ],
   "source": [
    "%timeit rhymes = df.apply(lambda row: (last_word in pronouncing.rhymes(row['Last_Word'])), axis=1) \n",
    "# get a series which contains only True/False. e.g. whether the last word in each line rhymes with the one given"
   ]
  },
  {
   "cell_type": "code",
   "execution_count": 19,
   "metadata": {},
   "outputs": [],
   "source": [
    "rhymes = df.apply(lambda row: (last_word in pronouncing.rhymes(row['Last_Word'])), axis=1) "
   ]
  },
  {
   "cell_type": "code",
   "execution_count": 20,
   "metadata": {},
   "outputs": [
    {
     "name": "stdout",
     "output_type": "stream",
     "text": [
      "roll\n",
      "pole\n",
      "whole\n",
      "toll\n",
      "Hole\n",
      "Espanol\n",
      "hole\n",
      "control\n",
      "whole\n",
      "Soul\n"
     ]
    }
   ],
   "source": [
    "rhyme_indices = list(rhymes[rhymes == True].index) # gets all indices of last words which rhyme with map\n",
    "ten_random_indices = random.sample(rhyme_indices, 10) # get only 10 randomly selected indices\n",
    "\n",
    "for i in ten_random_indices: # prints the last words at these 10 indices for visual inspection\n",
    "    print(df.loc[i].Last_Word)"
   ]
  },
  {
   "cell_type": "code",
   "execution_count": 21,
   "metadata": {},
   "outputs": [
    {
     "data": {
      "text/html": [
       "<div>\n",
       "<style scoped>\n",
       "    .dataframe tbody tr th:only-of-type {\n",
       "        vertical-align: middle;\n",
       "    }\n",
       "\n",
       "    .dataframe tbody tr th {\n",
       "        vertical-align: top;\n",
       "    }\n",
       "\n",
       "    .dataframe thead th {\n",
       "        text-align: right;\n",
       "    }\n",
       "</style>\n",
       "<table border=\"1\" class=\"dataframe\">\n",
       "  <thead>\n",
       "    <tr style=\"text-align: right;\">\n",
       "      <th></th>\n",
       "      <th>Unnamed: 0</th>\n",
       "      <th>Title</th>\n",
       "      <th>Poet</th>\n",
       "      <th>Lines</th>\n",
       "      <th>Last_Word</th>\n",
       "    </tr>\n",
       "  </thead>\n",
       "  <tbody>\n",
       "    <tr>\n",
       "      <th>11780</th>\n",
       "      <td>13552</td>\n",
       "      <td>Falling Water</td>\n",
       "      <td>John Koethe</td>\n",
       "      <td>Adding to the integrity of the whole.</td>\n",
       "      <td>whole</td>\n",
       "    </tr>\n",
       "    <tr>\n",
       "      <th>14114</th>\n",
       "      <td>15901</td>\n",
       "      <td>The Snake Doctors</td>\n",
       "      <td>Frank Stanford</td>\n",
       "      <td>The moon shined through the chink hole</td>\n",
       "      <td>hole</td>\n",
       "    </tr>\n",
       "    <tr>\n",
       "      <th>16072</th>\n",
       "      <td>18134</td>\n",
       "      <td>The Untold Witch</td>\n",
       "      <td>Keith Waldrop</td>\n",
       "      <td>There are whole</td>\n",
       "      <td>whole</td>\n",
       "    </tr>\n",
       "    <tr>\n",
       "      <th>18150</th>\n",
       "      <td>20257</td>\n",
       "      <td>Cruising 99</td>\n",
       "      <td>Garrett Hongo</td>\n",
       "      <td>VII.Body &amp; Fender/Body &amp; Soul</td>\n",
       "      <td>Soul</td>\n",
       "    </tr>\n",
       "    <tr>\n",
       "      <th>21146</th>\n",
       "      <td>24098</td>\n",
       "      <td>The Ballad of Reading Gaol</td>\n",
       "      <td>Oscar Wilde</td>\n",
       "      <td>Pent up in Murderer's Hole?</td>\n",
       "      <td>Hole</td>\n",
       "    </tr>\n",
       "    <tr>\n",
       "      <th>21671</th>\n",
       "      <td>24703</td>\n",
       "      <td>Puerto Rican Obituary</td>\n",
       "      <td>Pedro Pietri</td>\n",
       "      <td>Se Habla Espanol</td>\n",
       "      <td>Espanol</td>\n",
       "    </tr>\n",
       "    <tr>\n",
       "      <th>24346</th>\n",
       "      <td>27837</td>\n",
       "      <td>Letters to America (An Abecedary)</td>\n",
       "      <td>Fred D'Aguiar</td>\n",
       "      <td>I mean certain legends about flight that grow ...</td>\n",
       "      <td>control</td>\n",
       "    </tr>\n",
       "    <tr>\n",
       "      <th>31981</th>\n",
       "      <td>36673</td>\n",
       "      <td>from The Ambition of Ghosts:  I. Remembering i...</td>\n",
       "      <td>Rosmarie Waldrop</td>\n",
       "      <td>roll,</td>\n",
       "      <td>roll</td>\n",
       "    </tr>\n",
       "    <tr>\n",
       "      <th>37986</th>\n",
       "      <td>43993</td>\n",
       "      <td>Autobiography: New York</td>\n",
       "      <td>Charles Reznikoff</td>\n",
       "      <td>slapping the flag-pole</td>\n",
       "      <td>pole</td>\n",
       "    </tr>\n",
       "    <tr>\n",
       "      <th>38980</th>\n",
       "      <td>45093</td>\n",
       "      <td>Song of the Andoumboulou: 138</td>\n",
       "      <td>Nathaniel Mackey</td>\n",
       "      <td>...</td>\n",
       "      <td>toll</td>\n",
       "    </tr>\n",
       "  </tbody>\n",
       "</table>\n",
       "</div>"
      ],
      "text/plain": [
       "       Unnamed: 0                                              Title  \\\n",
       "11780       13552                                      Falling Water   \n",
       "14114       15901                                  The Snake Doctors   \n",
       "16072       18134                                   The Untold Witch   \n",
       "18150       20257                                        Cruising 99   \n",
       "21146       24098                         The Ballad of Reading Gaol   \n",
       "21671       24703                              Puerto Rican Obituary   \n",
       "24346       27837                  Letters to America (An Abecedary)   \n",
       "31981       36673  from The Ambition of Ghosts:  I. Remembering i...   \n",
       "37986       43993                            Autobiography: New York   \n",
       "38980       45093                      Song of the Andoumboulou: 138   \n",
       "\n",
       "                    Poet                                              Lines  \\\n",
       "11780        John Koethe              Adding to the integrity of the whole.   \n",
       "14114     Frank Stanford             The moon shined through the chink hole   \n",
       "16072      Keith Waldrop                                    There are whole   \n",
       "18150      Garrett Hongo                      VII.Body & Fender/Body & Soul   \n",
       "21146        Oscar Wilde                        Pent up in Murderer's Hole?   \n",
       "21671       Pedro Pietri                                   Se Habla Espanol   \n",
       "24346      Fred D'Aguiar  I mean certain legends about flight that grow ...   \n",
       "31981   Rosmarie Waldrop                                              roll,   \n",
       "37986  Charles Reznikoff                             slapping the flag-pole   \n",
       "38980   Nathaniel Mackey                                                ...   \n",
       "\n",
       "      Last_Word  \n",
       "11780     whole  \n",
       "14114      hole  \n",
       "16072     whole  \n",
       "18150      Soul  \n",
       "21146      Hole  \n",
       "21671   Espanol  \n",
       "24346   control  \n",
       "31981      roll  \n",
       "37986      pole  \n",
       "38980      toll  "
      ]
     },
     "execution_count": 21,
     "metadata": {},
     "output_type": "execute_result"
    }
   ],
   "source": [
    "df[df.index.isin(ten_random_indices)]"
   ]
  },
  {
   "cell_type": "markdown",
   "metadata": {},
   "source": [
    "**Observation** - Option 1: Looks good. 👍\n",
    "\n",
    "It seems like the 10 randomly inspected rhymes to `soul` indeed rhyme with the word.\n"
   ]
  },
  {
   "cell_type": "markdown",
   "metadata": {},
   "source": [
    "**Problem** To do this on the full data frame it will take `1 second` x 40 427, or around `11 hours` to complete 👎"
   ]
  },
  {
   "cell_type": "markdown",
   "metadata": {},
   "source": [
    "# So how do we make this better?"
   ]
  },
  {
   "cell_type": "markdown",
   "metadata": {},
   "source": [
    "* iterate over each last word in the dictironary. Estimated ron time O(n) - and ~ `2.5 ms`\n",
    "* return the list of all words which rhyme with a given one. Estimated run time O(n) - and ~ `6.2 ms`\n",
    "* add each word to the word:rhyme_caterogy dictionary. Estimated run time O(n) - and ~ `34.2 ns`\n",
    "* check if the word exists as a key in the dictionary first before adding it. Estimated run time O(n) and ~ `69.2 ns`"
   ]
  },
  {
   "cell_type": "code",
   "execution_count": 22,
   "metadata": {},
   "outputs": [
    {
     "name": "stdout",
     "output_type": "stream",
     "text": [
      "2.53 ms ± 19.7 µs per loop (mean ± std. dev. of 7 runs, 100 loops each)\n"
     ]
    }
   ],
   "source": [
    "def find_rhyme_categories():\n",
    "    for last_word in df.Last_Word:\n",
    "        j = 0\n",
    "        \n",
    "%timeit find_rhyme_categories()"
   ]
  },
  {
   "cell_type": "code",
   "execution_count": 45,
   "metadata": {},
   "outputs": [
    {
     "name": "stdout",
     "output_type": "stream",
     "text": [
      "6.2 µs ± 32 ns per loop (mean ± std. dev. of 7 runs, 100000 loops each)\n"
     ]
    }
   ],
   "source": [
    "%timeit pronouncing.rhymes(last_word)"
   ]
  },
  {
   "cell_type": "code",
   "execution_count": 46,
   "metadata": {},
   "outputs": [
    {
     "name": "stdout",
     "output_type": "stream",
     "text": [
      "34.2 ns ± 0.587 ns per loop (mean ± std. dev. of 7 runs, 10000000 loops each)\n"
     ]
    }
   ],
   "source": [
    "d = {}\n",
    "%timeit d['key'] = 'value'"
   ]
  },
  {
   "cell_type": "code",
   "execution_count": 47,
   "metadata": {},
   "outputs": [
    {
     "name": "stdout",
     "output_type": "stream",
     "text": [
      "69.2 ns ± 0.614 ns per loop (mean ± std. dev. of 7 runs, 10000000 loops each)\n"
     ]
    }
   ],
   "source": [
    "%timeit 'word' in d.keys()"
   ]
  },
  {
   "cell_type": "markdown",
   "metadata": {},
   "source": [
    "## Combine all of these together and .... ⬇️"
   ]
  },
  {
   "cell_type": "code",
   "execution_count": 53,
   "metadata": {},
   "outputs": [
    {
     "name": "stdout",
     "output_type": "stream",
     "text": [
      "Added 6059 unique rhyme words to the dictionary.\n"
     ]
    }
   ],
   "source": [
    "word_rhymecategory_dict = {}\n",
    "\n",
    "def find_rhyme_categories():\n",
    "    cnt = 0\n",
    "    for last_word in df.Last_Word:\n",
    "        if last_word not in word_rhymecategory_dict.keys():\n",
    "            cnt += 1\n",
    "            word_rhymecategory_dict[last_word] = last_word\n",
    "            for rhyme in pronouncing.rhymes(last_word):\n",
    "                word_rhymecategory_dict[rhyme] = last_word\n",
    "    print('Added', cnt, 'unique rhyme words to the dictionary.')\n",
    "        \n",
    "find_rhyme_categories()"
   ]
  },
  {
   "cell_type": "code",
   "execution_count": 55,
   "metadata": {},
   "outputs": [],
   "source": [
    "df['Rhyme_Categories'] = df.Last_Word.map(word_rhymecategory_dict)"
   ]
  },
  {
   "cell_type": "code",
   "execution_count": 56,
   "metadata": {},
   "outputs": [
    {
     "data": {
      "text/html": [
       "<div>\n",
       "<style scoped>\n",
       "    .dataframe tbody tr th:only-of-type {\n",
       "        vertical-align: middle;\n",
       "    }\n",
       "\n",
       "    .dataframe tbody tr th {\n",
       "        vertical-align: top;\n",
       "    }\n",
       "\n",
       "    .dataframe thead th {\n",
       "        text-align: right;\n",
       "    }\n",
       "</style>\n",
       "<table border=\"1\" class=\"dataframe\">\n",
       "  <thead>\n",
       "    <tr style=\"text-align: right;\">\n",
       "      <th></th>\n",
       "      <th>Unnamed: 0</th>\n",
       "      <th>Title</th>\n",
       "      <th>Poet</th>\n",
       "      <th>Lines</th>\n",
       "      <th>Last_Word</th>\n",
       "      <th>Rhyme_Categories</th>\n",
       "    </tr>\n",
       "  </thead>\n",
       "  <tbody>\n",
       "    <tr>\n",
       "      <th>0</th>\n",
       "      <td>0</td>\n",
       "      <td>Song of Myself (1892 version)</td>\n",
       "      <td>Walt Whitman</td>\n",
       "      <td>1</td>\n",
       "      <td>1</td>\n",
       "      <td>1</td>\n",
       "    </tr>\n",
       "    <tr>\n",
       "      <th>1</th>\n",
       "      <td>1</td>\n",
       "      <td>Song of Myself (1892 version)</td>\n",
       "      <td>Walt Whitman</td>\n",
       "      <td>I celebrate myself, and sing myself,</td>\n",
       "      <td>myself</td>\n",
       "      <td>myself</td>\n",
       "    </tr>\n",
       "    <tr>\n",
       "      <th>2</th>\n",
       "      <td>2</td>\n",
       "      <td>Song of Myself (1892 version)</td>\n",
       "      <td>Walt Whitman</td>\n",
       "      <td>And what I assume you shall assume,</td>\n",
       "      <td>assume</td>\n",
       "      <td>assume</td>\n",
       "    </tr>\n",
       "    <tr>\n",
       "      <th>3</th>\n",
       "      <td>3</td>\n",
       "      <td>Song of Myself (1892 version)</td>\n",
       "      <td>Walt Whitman</td>\n",
       "      <td>For every atom belonging to me as good belongs...</td>\n",
       "      <td>you</td>\n",
       "      <td>you</td>\n",
       "    </tr>\n",
       "    <tr>\n",
       "      <th>4</th>\n",
       "      <td>4</td>\n",
       "      <td>Song of Myself (1892 version)</td>\n",
       "      <td>Walt Whitman</td>\n",
       "      <td>I loafe and invite my soul,</td>\n",
       "      <td>soul</td>\n",
       "      <td>soul</td>\n",
       "    </tr>\n",
       "    <tr>\n",
       "      <th>...</th>\n",
       "      <td>...</td>\n",
       "      <td>...</td>\n",
       "      <td>...</td>\n",
       "      <td>...</td>\n",
       "      <td>...</td>\n",
       "      <td>...</td>\n",
       "    </tr>\n",
       "    <tr>\n",
       "      <th>40422</th>\n",
       "      <td>46779</td>\n",
       "      <td>Ordinary Time</td>\n",
       "      <td>Tim Dlugos</td>\n",
       "      <td>other place, the undescribed</td>\n",
       "      <td>undescribed</td>\n",
       "      <td>undescribed</td>\n",
       "    </tr>\n",
       "    <tr>\n",
       "      <th>40423</th>\n",
       "      <td>46781</td>\n",
       "      <td>Ordinary Time</td>\n",
       "      <td>Tim Dlugos</td>\n",
       "      <td>and indescribable, more various</td>\n",
       "      <td>various</td>\n",
       "      <td>various</td>\n",
       "    </tr>\n",
       "    <tr>\n",
       "      <th>40424</th>\n",
       "      <td>46783</td>\n",
       "      <td>Ordinary Time</td>\n",
       "      <td>Tim Dlugos</td>\n",
       "      <td>and cacophonous than voice</td>\n",
       "      <td>voice</td>\n",
       "      <td>voice</td>\n",
       "    </tr>\n",
       "    <tr>\n",
       "      <th>40425</th>\n",
       "      <td>46785</td>\n",
       "      <td>Ordinary Time</td>\n",
       "      <td>Tim Dlugos</td>\n",
       "      <td>can tell or mind conceive,</td>\n",
       "      <td>conceive</td>\n",
       "      <td>receive</td>\n",
       "    </tr>\n",
       "    <tr>\n",
       "      <th>40426</th>\n",
       "      <td>46787</td>\n",
       "      <td>Ordinary Time</td>\n",
       "      <td>Tim Dlugos</td>\n",
       "      <td>and for the sky’s vast depths</td>\n",
       "      <td>depths</td>\n",
       "      <td>depths</td>\n",
       "    </tr>\n",
       "  </tbody>\n",
       "</table>\n",
       "<p>40427 rows × 6 columns</p>\n",
       "</div>"
      ],
      "text/plain": [
       "       Unnamed: 0                          Title          Poet  \\\n",
       "0               0  Song of Myself (1892 version)  Walt Whitman   \n",
       "1               1  Song of Myself (1892 version)  Walt Whitman   \n",
       "2               2  Song of Myself (1892 version)  Walt Whitman   \n",
       "3               3  Song of Myself (1892 version)  Walt Whitman   \n",
       "4               4  Song of Myself (1892 version)  Walt Whitman   \n",
       "...           ...                            ...           ...   \n",
       "40422       46779                  Ordinary Time    Tim Dlugos   \n",
       "40423       46781                  Ordinary Time    Tim Dlugos   \n",
       "40424       46783                  Ordinary Time    Tim Dlugos   \n",
       "40425       46785                  Ordinary Time    Tim Dlugos   \n",
       "40426       46787                  Ordinary Time    Tim Dlugos   \n",
       "\n",
       "                                                   Lines    Last_Word  \\\n",
       "0                                                      1            1   \n",
       "1                   I celebrate myself, and sing myself,       myself   \n",
       "2                    And what I assume you shall assume,       assume   \n",
       "3      For every atom belonging to me as good belongs...          you   \n",
       "4                            I loafe and invite my soul,         soul   \n",
       "...                                                  ...          ...   \n",
       "40422                       other place, the undescribed  undescribed   \n",
       "40423                    and indescribable, more various      various   \n",
       "40424                         and cacophonous than voice        voice   \n",
       "40425                         can tell or mind conceive,     conceive   \n",
       "40426                      and for the sky’s vast depths       depths   \n",
       "\n",
       "      Rhyme_Categories  \n",
       "0                    1  \n",
       "1               myself  \n",
       "2               assume  \n",
       "3                  you  \n",
       "4                 soul  \n",
       "...                ...  \n",
       "40422      undescribed  \n",
       "40423          various  \n",
       "40424            voice  \n",
       "40425          receive  \n",
       "40426           depths  \n",
       "\n",
       "[40427 rows x 6 columns]"
      ]
     },
     "execution_count": 56,
     "metadata": {},
     "output_type": "execute_result"
    }
   ],
   "source": [
    "df"
   ]
  },
  {
   "cell_type": "code",
   "execution_count": 57,
   "metadata": {},
   "outputs": [
    {
     "data": {
      "text/plain": [
       "6014"
      ]
     },
     "execution_count": 57,
     "metadata": {},
     "output_type": "execute_result"
    }
   ],
   "source": [
    "df['Rhyme_Categories'].value_counts().shape[0]"
   ]
  },
  {
   "cell_type": "code",
   "execution_count": null,
   "metadata": {},
   "outputs": [],
   "source": []
  }
 ],
 "metadata": {
  "kernelspec": {
   "display_name": "Python 3",
   "language": "python",
   "name": "python3"
  },
  "language_info": {
   "codemirror_mode": {
    "name": "ipython",
    "version": 3
   },
   "file_extension": ".py",
   "mimetype": "text/x-python",
   "name": "python",
   "nbconvert_exporter": "python",
   "pygments_lexer": "ipython3",
   "version": "3.6.9"
  }
 },
 "nbformat": 4,
 "nbformat_minor": 4
}
